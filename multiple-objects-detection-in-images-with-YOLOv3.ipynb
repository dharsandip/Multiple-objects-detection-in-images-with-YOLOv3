{
 "cells": [
  {
   "cell_type": "code",
   "execution_count": 3,
   "metadata": {},
   "outputs": [],
   "source": [
    "import os\n",
    "import time\n",
    "import cv2\n",
    "import numpy as np\n",
    "from model.yolo_model import YOLO"
   ]
  },
  {
   "cell_type": "code",
   "execution_count": 4,
   "metadata": {},
   "outputs": [],
   "source": [
    "def process_image(img):\n",
    "    \n",
    "    image = cv2.resize(img, (416, 416), interpolation=cv2.INTER_CUBIC)\n",
    "    image = np.array(image, dtype='float32')\n",
    "    image = image/255.\n",
    "    image = np.expand_dims(image, axis=0)\n",
    "\n",
    "    return image\n",
    "\n",
    "def get_classes(file):\n",
    "   \n",
    "    with open(file) as f:\n",
    "        class_names = f.readlines()\n",
    "    class_names = [c.strip() for c in class_names]\n",
    "\n",
    "    return class_names\n",
    "\n",
    "def draw(image, boxes, scores, classes, all_classes):\n",
    "    \n",
    "    for box, score, cl in zip(boxes, scores, classes):\n",
    "        x, y, w, h = box\n",
    "\n",
    "        top = max(0, np.floor(x + 0.5).astype(int))\n",
    "        left = max(0, np.floor(y + 0.5).astype(int))\n",
    "        right = min(image.shape[1], np.floor(x + w + 0.5).astype(int))\n",
    "        bottom = min(image.shape[0], np.floor(y + h + 0.5).astype(int))\n",
    "\n",
    "        cv2.rectangle(image, (top, left), (right, bottom), (255, 0, 0), 2)\n",
    "        cv2.putText(image, '{0} {1:.2f}'.format(all_classes[cl], score),\n",
    "                    (top, left - 6),\n",
    "                    cv2.FONT_HERSHEY_SIMPLEX,\n",
    "                    0.6, (0, 0, 255), 1,\n",
    "                    cv2.LINE_AA)\n",
    "\n",
    "        print('class: {0}, score: {1:.2f}'.format(all_classes[cl], score))\n",
    "        print('box coordinate x,y,w,h: {0}'.format(box))\n",
    "\n",
    "\n",
    "def detect_image(image, yolo, all_classes):\n",
    "    \n",
    "    pimage = process_image(image)\n",
    "\n",
    "    start = time.time()\n",
    "    boxes, classes, scores = yolo.predict(pimage, image.shape)\n",
    "    end = time.time()\n",
    "\n",
    "    print('time: {0:.2f}s'.format(end - start))\n",
    "\n",
    "    if boxes is not None:\n",
    "        draw(image, boxes, scores, classes, all_classes)\n",
    "\n",
    "    return image"
   ]
  },
  {
   "cell_type": "code",
   "execution_count": 6,
   "metadata": {},
   "outputs": [
    {
     "name": "stdout",
     "output_type": "stream",
     "text": [
      "time: 27.94s\n",
      "class: person, score: 0.49\n",
      "box coordinate x,y,w,h: [166.26152396 100.88926944  68.1207329  165.10906559]\n",
      "class: horse, score: 1.00\n",
      "box coordinate x,y,w,h: [ 54.58498001 142.51217365 242.32938886 194.35351539]\n",
      "class: car, score: 0.99\n",
      "box coordinate x,y,w,h: [256.50203228 192.47191107 220.4093188   75.60168716]\n",
      "time: 20.56s\n",
      "class: person, score: 1.00\n",
      "box coordinate x,y,w,h: [262.1165514   48.7228632  103.76606882 301.12583637]\n",
      "class: person, score: 0.46\n",
      "box coordinate x,y,w,h: [382.15705752 178.36940289  14.55458533  36.05409265]\n",
      "class: dog, score: 0.96\n",
      "box coordinate x,y,w,h: [370.21049857 259.01699066  96.16820514  90.61459899]\n",
      "class: car, score: 0.98\n",
      "box coordinate x,y,w,h: [367.47401953 170.73101997 131.86906278  99.4012773 ]\n",
      "time: 21.45s\n",
      "class: person, score: 1.00\n",
      "box coordinate x,y,w,h: [192.97274947  64.35571611 204.62395251 293.34233701]\n",
      "class: bicycle, score: 1.00\n",
      "box coordinate x,y,w,h: [ 38.43025863 112.99792305 349.55060482 295.75549811]\n",
      "class: dog, score: 1.00\n",
      "box coordinate x,y,w,h: [167.03544557 403.68953347 266.01412892 196.58558071]\n"
     ]
    },
    {
     "data": {
      "text/plain": [
       "True"
      ]
     },
     "execution_count": 6,
     "metadata": {},
     "output_type": "execute_result"
    }
   ],
   "source": [
    "# Detecting various objects in Images\n",
    "\n",
    "yolo = YOLO(0.4, 0.5)\n",
    "file = 'data/coco_classes.txt'\n",
    "all_classes = get_classes(file)\n",
    "\n",
    "#-----An image having person, car and horse---\n",
    "f1 = 'person-car-horse.jpg'\n",
    "path1 = 'images/test/'+f1\n",
    "image1 = cv2.imread(path1)\n",
    "image1 = detect_image(image1, yolo, all_classes)\n",
    "cv2.imwrite('images/res/' + f1, image1)\n",
    "\n",
    "#-----An image having persons, car and dog---\n",
    "f2 = 'persons-car-dog.jpg'\n",
    "path2 = 'images/test/'+f2\n",
    "image2 = cv2.imread(path2)\n",
    "image2 = detect_image(image2, yolo, all_classes)\n",
    "cv2.imwrite('images/res/' + f2, image2)\n",
    "\n",
    "#----An image having dog, bicycle and person---\n",
    "f3 = 'dog-bicycle-person.jpg'\n",
    "path3 = 'images/test/'+f3\n",
    "image3 = cv2.imread(path3)\n",
    "image3 = detect_image(image3, yolo, all_classes)\n",
    "cv2.imwrite('images/res/' + f3, image3)\n"
   ]
  },
  {
   "cell_type": "code",
   "execution_count": null,
   "metadata": {},
   "outputs": [],
   "source": []
  }
 ],
 "metadata": {
  "kernelspec": {
   "display_name": "Python 3",
   "language": "python",
   "name": "python3"
  },
  "language_info": {
   "codemirror_mode": {
    "name": "ipython",
    "version": 3
   },
   "file_extension": ".py",
   "mimetype": "text/x-python",
   "name": "python",
   "nbconvert_exporter": "python",
   "pygments_lexer": "ipython3",
   "version": "3.6.6"
  }
 },
 "nbformat": 4,
 "nbformat_minor": 2
}
